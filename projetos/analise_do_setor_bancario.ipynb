{
 "cells": [
  {
   "cell_type": "code",
   "execution_count": 45,
   "id": "493b628b",
   "metadata": {},
   "outputs": [],
   "source": [
    "import pandas as pd\n",
    "import yfinance as yf\n",
    "from pandas_datareader import data as pdr\n",
    "import matplotlib.pyplot as plt\n",
    "import matplotlib.ticker as mtick"
   ]
  },
  {
   "cell_type": "code",
   "execution_count": 8,
   "id": "32d98f34",
   "metadata": {},
   "outputs": [
    {
     "name": "stdout",
     "output_type": "stream",
     "text": [
      "[*********************100%***********************]  5 of 5 completed\n"
     ]
    }
   ],
   "source": [
    "# Obter as cotações\n",
    "dados_bancario = yf.download(\n",
    "    [\"ITUB4.SA\", \"BBAS3.SA\", \"SANB4.SA\", \"BBDC4.SA\", \"^BVSP\"], \n",
    "    start = \"2010-01-01\", \n",
    "    end = \"2022-04-30\"\n",
    ")[\"Adj Close\"]"
   ]
  },
  {
   "cell_type": "code",
   "execution_count": 9,
   "id": "192ff918",
   "metadata": {},
   "outputs": [
    {
     "data": {
      "text/html": [
       "<div>\n",
       "<style scoped>\n",
       "    .dataframe tbody tr th:only-of-type {\n",
       "        vertical-align: middle;\n",
       "    }\n",
       "\n",
       "    .dataframe tbody tr th {\n",
       "        vertical-align: top;\n",
       "    }\n",
       "\n",
       "    .dataframe thead th {\n",
       "        text-align: right;\n",
       "    }\n",
       "</style>\n",
       "<table border=\"1\" class=\"dataframe\">\n",
       "  <thead>\n",
       "    <tr style=\"text-align: right;\">\n",
       "      <th></th>\n",
       "      <th>BBAS3.SA</th>\n",
       "      <th>BBDC4.SA</th>\n",
       "      <th>ITUB4.SA</th>\n",
       "      <th>SANB4.SA</th>\n",
       "      <th>^BVSP</th>\n",
       "    </tr>\n",
       "    <tr>\n",
       "      <th>Date</th>\n",
       "      <th></th>\n",
       "      <th></th>\n",
       "      <th></th>\n",
       "      <th></th>\n",
       "      <th></th>\n",
       "    </tr>\n",
       "  </thead>\n",
       "  <tbody>\n",
       "    <tr>\n",
       "      <th>2010-01-04</th>\n",
       "      <td>12.641327</td>\n",
       "      <td>7.674425</td>\n",
       "      <td>10.770150</td>\n",
       "      <td>5.563494</td>\n",
       "      <td>70045.0</td>\n",
       "    </tr>\n",
       "    <tr>\n",
       "      <th>2010-01-05</th>\n",
       "      <td>12.514488</td>\n",
       "      <td>7.636646</td>\n",
       "      <td>10.839947</td>\n",
       "      <td>5.563494</td>\n",
       "      <td>70240.0</td>\n",
       "    </tr>\n",
       "    <tr>\n",
       "      <th>2010-01-06</th>\n",
       "      <td>12.531404</td>\n",
       "      <td>7.575563</td>\n",
       "      <td>10.745987</td>\n",
       "      <td>5.563494</td>\n",
       "      <td>70729.0</td>\n",
       "    </tr>\n",
       "    <tr>\n",
       "      <th>2010-01-07</th>\n",
       "      <td>12.535631</td>\n",
       "      <td>7.555195</td>\n",
       "      <td>10.635927</td>\n",
       "      <td>5.563494</td>\n",
       "      <td>70451.0</td>\n",
       "    </tr>\n",
       "    <tr>\n",
       "      <th>2010-01-08</th>\n",
       "      <td>12.607506</td>\n",
       "      <td>7.547050</td>\n",
       "      <td>10.474855</td>\n",
       "      <td>5.563494</td>\n",
       "      <td>70263.0</td>\n",
       "    </tr>\n",
       "    <tr>\n",
       "      <th>...</th>\n",
       "      <td>...</td>\n",
       "      <td>...</td>\n",
       "      <td>...</td>\n",
       "      <td>...</td>\n",
       "      <td>...</td>\n",
       "    </tr>\n",
       "    <tr>\n",
       "      <th>2022-04-25</th>\n",
       "      <td>32.440689</td>\n",
       "      <td>17.946095</td>\n",
       "      <td>24.325464</td>\n",
       "      <td>16.824757</td>\n",
       "      <td>110685.0</td>\n",
       "    </tr>\n",
       "    <tr>\n",
       "      <th>2022-04-26</th>\n",
       "      <td>31.711473</td>\n",
       "      <td>17.175636</td>\n",
       "      <td>23.497814</td>\n",
       "      <td>16.059994</td>\n",
       "      <td>108213.0</td>\n",
       "    </tr>\n",
       "    <tr>\n",
       "      <th>2022-04-27</th>\n",
       "      <td>31.851702</td>\n",
       "      <td>17.278990</td>\n",
       "      <td>23.307545</td>\n",
       "      <td>16.069553</td>\n",
       "      <td>109349.0</td>\n",
       "    </tr>\n",
       "    <tr>\n",
       "      <th>2022-04-28</th>\n",
       "      <td>31.795607</td>\n",
       "      <td>17.119259</td>\n",
       "      <td>23.117281</td>\n",
       "      <td>15.897479</td>\n",
       "      <td>109919.0</td>\n",
       "    </tr>\n",
       "    <tr>\n",
       "      <th>2022-04-29</th>\n",
       "      <td>31.057049</td>\n",
       "      <td>16.893757</td>\n",
       "      <td>22.708208</td>\n",
       "      <td>15.897479</td>\n",
       "      <td>107876.0</td>\n",
       "    </tr>\n",
       "  </tbody>\n",
       "</table>\n",
       "<p>3056 rows × 5 columns</p>\n",
       "</div>"
      ],
      "text/plain": [
       "             BBAS3.SA   BBDC4.SA   ITUB4.SA   SANB4.SA     ^BVSP\n",
       "Date                                                            \n",
       "2010-01-04  12.641327   7.674425  10.770150   5.563494   70045.0\n",
       "2010-01-05  12.514488   7.636646  10.839947   5.563494   70240.0\n",
       "2010-01-06  12.531404   7.575563  10.745987   5.563494   70729.0\n",
       "2010-01-07  12.535631   7.555195  10.635927   5.563494   70451.0\n",
       "2010-01-08  12.607506   7.547050  10.474855   5.563494   70263.0\n",
       "...               ...        ...        ...        ...       ...\n",
       "2022-04-25  32.440689  17.946095  24.325464  16.824757  110685.0\n",
       "2022-04-26  31.711473  17.175636  23.497814  16.059994  108213.0\n",
       "2022-04-27  31.851702  17.278990  23.307545  16.069553  109349.0\n",
       "2022-04-28  31.795607  17.119259  23.117281  15.897479  109919.0\n",
       "2022-04-29  31.057049  16.893757  22.708208  15.897479  107876.0\n",
       "\n",
       "[3056 rows x 5 columns]"
      ]
     },
     "execution_count": 9,
     "metadata": {},
     "output_type": "execute_result"
    }
   ],
   "source": [
    "dados_bancario"
   ]
  },
  {
   "cell_type": "code",
   "execution_count": 10,
   "id": "8b4a4e1c",
   "metadata": {},
   "outputs": [],
   "source": [
    "# Carregar uma tabela do Excel\n",
    "lucro_bancos = pd.read_excel(\"./lucro_bancos_2010_2022.xlsx\", index_col = \"data\")"
   ]
  },
  {
   "cell_type": "code",
   "execution_count": 11,
   "id": "4e473d2d",
   "metadata": {},
   "outputs": [
    {
     "data": {
      "text/html": [
       "<div>\n",
       "<style scoped>\n",
       "    .dataframe tbody tr th:only-of-type {\n",
       "        vertical-align: middle;\n",
       "    }\n",
       "\n",
       "    .dataframe tbody tr th {\n",
       "        vertical-align: top;\n",
       "    }\n",
       "\n",
       "    .dataframe thead th {\n",
       "        text-align: right;\n",
       "    }\n",
       "</style>\n",
       "<table border=\"1\" class=\"dataframe\">\n",
       "  <thead>\n",
       "    <tr style=\"text-align: right;\">\n",
       "      <th></th>\n",
       "      <th>bradesco</th>\n",
       "      <th>banco_do_brasil</th>\n",
       "      <th>itau</th>\n",
       "      <th>santander</th>\n",
       "    </tr>\n",
       "    <tr>\n",
       "      <th>data</th>\n",
       "      <th></th>\n",
       "      <th></th>\n",
       "      <th></th>\n",
       "      <th></th>\n",
       "    </tr>\n",
       "  </thead>\n",
       "  <tbody>\n",
       "    <tr>\n",
       "      <th>2009-12-31</th>\n",
       "      <td>8012282</td>\n",
       "      <td>10147522</td>\n",
       "      <td>1068808</td>\n",
       "      <td>1805899</td>\n",
       "    </tr>\n",
       "    <tr>\n",
       "      <th>2021-12-31</th>\n",
       "      <td>21945688</td>\n",
       "      <td>19710402</td>\n",
       "      <td>24988000</td>\n",
       "      <td>14987716</td>\n",
       "    </tr>\n",
       "  </tbody>\n",
       "</table>\n",
       "</div>"
      ],
      "text/plain": [
       "            bradesco  banco_do_brasil      itau  santander\n",
       "data                                                      \n",
       "2009-12-31   8012282         10147522   1068808    1805899\n",
       "2021-12-31  21945688         19710402  24988000   14987716"
      ]
     },
     "execution_count": 11,
     "metadata": {},
     "output_type": "execute_result"
    }
   ],
   "source": [
    "lucro_bancos"
   ]
  },
  {
   "cell_type": "code",
   "execution_count": 12,
   "id": "900a9aea",
   "metadata": {},
   "outputs": [
    {
     "data": {
      "text/plain": [
       "Date\n",
       "2010-01-04    10.770150\n",
       "2010-01-05    10.839947\n",
       "2010-01-06    10.745987\n",
       "2010-01-07    10.635927\n",
       "2010-01-08    10.474855\n",
       "                ...    \n",
       "2022-04-25    24.325464\n",
       "2022-04-26    23.497814\n",
       "2022-04-27    23.307545\n",
       "2022-04-28    23.117281\n",
       "2022-04-29    22.708208\n",
       "Name: ITUB4.SA, Length: 3056, dtype: float64"
      ]
     },
     "execution_count": 12,
     "metadata": {},
     "output_type": "execute_result"
    }
   ],
   "source": [
    "# Filtrar os dados de uma determinada coluna (\"ITUB4.SA\")\n",
    "dados_bancario[\"ITUB4.SA\"]"
   ]
  },
  {
   "cell_type": "code",
   "execution_count": 16,
   "id": "e58d8ace",
   "metadata": {},
   "outputs": [
    {
     "data": {
      "text/html": [
       "<div>\n",
       "<style scoped>\n",
       "    .dataframe tbody tr th:only-of-type {\n",
       "        vertical-align: middle;\n",
       "    }\n",
       "\n",
       "    .dataframe tbody tr th {\n",
       "        vertical-align: top;\n",
       "    }\n",
       "\n",
       "    .dataframe thead th {\n",
       "        text-align: right;\n",
       "    }\n",
       "</style>\n",
       "<table border=\"1\" class=\"dataframe\">\n",
       "  <thead>\n",
       "    <tr style=\"text-align: right;\">\n",
       "      <th></th>\n",
       "      <th>ITUB4.SA</th>\n",
       "      <th>BBAS3.SA</th>\n",
       "    </tr>\n",
       "    <tr>\n",
       "      <th>Date</th>\n",
       "      <th></th>\n",
       "      <th></th>\n",
       "    </tr>\n",
       "  </thead>\n",
       "  <tbody>\n",
       "    <tr>\n",
       "      <th>2010-01-04</th>\n",
       "      <td>10.770150</td>\n",
       "      <td>12.641327</td>\n",
       "    </tr>\n",
       "    <tr>\n",
       "      <th>2010-01-05</th>\n",
       "      <td>10.839947</td>\n",
       "      <td>12.514488</td>\n",
       "    </tr>\n",
       "    <tr>\n",
       "      <th>2010-01-06</th>\n",
       "      <td>10.745987</td>\n",
       "      <td>12.531404</td>\n",
       "    </tr>\n",
       "    <tr>\n",
       "      <th>2010-01-07</th>\n",
       "      <td>10.635927</td>\n",
       "      <td>12.535631</td>\n",
       "    </tr>\n",
       "    <tr>\n",
       "      <th>2010-01-08</th>\n",
       "      <td>10.474855</td>\n",
       "      <td>12.607506</td>\n",
       "    </tr>\n",
       "    <tr>\n",
       "      <th>...</th>\n",
       "      <td>...</td>\n",
       "      <td>...</td>\n",
       "    </tr>\n",
       "    <tr>\n",
       "      <th>2022-04-25</th>\n",
       "      <td>24.325464</td>\n",
       "      <td>32.440689</td>\n",
       "    </tr>\n",
       "    <tr>\n",
       "      <th>2022-04-26</th>\n",
       "      <td>23.497814</td>\n",
       "      <td>31.711473</td>\n",
       "    </tr>\n",
       "    <tr>\n",
       "      <th>2022-04-27</th>\n",
       "      <td>23.307545</td>\n",
       "      <td>31.851702</td>\n",
       "    </tr>\n",
       "    <tr>\n",
       "      <th>2022-04-28</th>\n",
       "      <td>23.117281</td>\n",
       "      <td>31.795607</td>\n",
       "    </tr>\n",
       "    <tr>\n",
       "      <th>2022-04-29</th>\n",
       "      <td>22.708208</td>\n",
       "      <td>31.057049</td>\n",
       "    </tr>\n",
       "  </tbody>\n",
       "</table>\n",
       "<p>3056 rows × 2 columns</p>\n",
       "</div>"
      ],
      "text/plain": [
       "             ITUB4.SA   BBAS3.SA\n",
       "Date                            \n",
       "2010-01-04  10.770150  12.641327\n",
       "2010-01-05  10.839947  12.514488\n",
       "2010-01-06  10.745987  12.531404\n",
       "2010-01-07  10.635927  12.535631\n",
       "2010-01-08  10.474855  12.607506\n",
       "...               ...        ...\n",
       "2022-04-25  24.325464  32.440689\n",
       "2022-04-26  23.497814  31.711473\n",
       "2022-04-27  23.307545  31.851702\n",
       "2022-04-28  23.117281  31.795607\n",
       "2022-04-29  22.708208  31.057049\n",
       "\n",
       "[3056 rows x 2 columns]"
      ]
     },
     "execution_count": 16,
     "metadata": {},
     "output_type": "execute_result"
    }
   ],
   "source": [
    "# Filtrar os dados de mais de uma coluna (\"ITUB4.SA\" e \"BBAS3.SA\")\n",
    "dados_bancario[[\"ITUB4.SA\", \"BBAS3.SA\"]]"
   ]
  },
  {
   "cell_type": "code",
   "execution_count": 14,
   "id": "00fef004",
   "metadata": {},
   "outputs": [],
   "source": [
    "# Filtrar a partir de um determinado critério\n",
    "dados_filtrados_2015 = dados_bancario[dados_bancario.index >= \"2015-01-01\"]"
   ]
  },
  {
   "cell_type": "code",
   "execution_count": 15,
   "id": "31c3aa34",
   "metadata": {},
   "outputs": [
    {
     "data": {
      "text/html": [
       "<div>\n",
       "<style scoped>\n",
       "    .dataframe tbody tr th:only-of-type {\n",
       "        vertical-align: middle;\n",
       "    }\n",
       "\n",
       "    .dataframe tbody tr th {\n",
       "        vertical-align: top;\n",
       "    }\n",
       "\n",
       "    .dataframe thead th {\n",
       "        text-align: right;\n",
       "    }\n",
       "</style>\n",
       "<table border=\"1\" class=\"dataframe\">\n",
       "  <thead>\n",
       "    <tr style=\"text-align: right;\">\n",
       "      <th></th>\n",
       "      <th>BBAS3.SA</th>\n",
       "      <th>BBDC4.SA</th>\n",
       "      <th>ITUB4.SA</th>\n",
       "      <th>SANB4.SA</th>\n",
       "      <th>^BVSP</th>\n",
       "    </tr>\n",
       "    <tr>\n",
       "      <th>Date</th>\n",
       "      <th></th>\n",
       "      <th></th>\n",
       "      <th></th>\n",
       "      <th></th>\n",
       "      <th></th>\n",
       "    </tr>\n",
       "  </thead>\n",
       "  <tbody>\n",
       "    <tr>\n",
       "      <th>2015-01-02</th>\n",
       "      <td>13.836071</td>\n",
       "      <td>9.028625</td>\n",
       "      <td>12.872023</td>\n",
       "      <td>3.463754</td>\n",
       "      <td>48512.0</td>\n",
       "    </tr>\n",
       "    <tr>\n",
       "      <th>2015-01-05</th>\n",
       "      <td>13.548972</td>\n",
       "      <td>9.047248</td>\n",
       "      <td>12.936701</td>\n",
       "      <td>3.434890</td>\n",
       "      <td>47517.0</td>\n",
       "    </tr>\n",
       "    <tr>\n",
       "      <th>2015-01-06</th>\n",
       "      <td>13.738333</td>\n",
       "      <td>9.344872</td>\n",
       "      <td>13.145975</td>\n",
       "      <td>3.463754</td>\n",
       "      <td>48001.0</td>\n",
       "    </tr>\n",
       "    <tr>\n",
       "      <th>2015-01-07</th>\n",
       "      <td>14.343091</td>\n",
       "      <td>9.716242</td>\n",
       "      <td>13.621588</td>\n",
       "      <td>3.752400</td>\n",
       "      <td>49463.0</td>\n",
       "    </tr>\n",
       "    <tr>\n",
       "      <th>2015-01-08</th>\n",
       "      <td>14.391956</td>\n",
       "      <td>9.766285</td>\n",
       "      <td>13.834665</td>\n",
       "      <td>3.660033</td>\n",
       "      <td>49943.0</td>\n",
       "    </tr>\n",
       "    <tr>\n",
       "      <th>...</th>\n",
       "      <td>...</td>\n",
       "      <td>...</td>\n",
       "      <td>...</td>\n",
       "      <td>...</td>\n",
       "      <td>...</td>\n",
       "    </tr>\n",
       "    <tr>\n",
       "      <th>2022-04-25</th>\n",
       "      <td>32.440689</td>\n",
       "      <td>17.946095</td>\n",
       "      <td>24.325464</td>\n",
       "      <td>16.824757</td>\n",
       "      <td>110685.0</td>\n",
       "    </tr>\n",
       "    <tr>\n",
       "      <th>2022-04-26</th>\n",
       "      <td>31.711473</td>\n",
       "      <td>17.175636</td>\n",
       "      <td>23.497814</td>\n",
       "      <td>16.059994</td>\n",
       "      <td>108213.0</td>\n",
       "    </tr>\n",
       "    <tr>\n",
       "      <th>2022-04-27</th>\n",
       "      <td>31.851702</td>\n",
       "      <td>17.278990</td>\n",
       "      <td>23.307545</td>\n",
       "      <td>16.069553</td>\n",
       "      <td>109349.0</td>\n",
       "    </tr>\n",
       "    <tr>\n",
       "      <th>2022-04-28</th>\n",
       "      <td>31.795607</td>\n",
       "      <td>17.119259</td>\n",
       "      <td>23.117281</td>\n",
       "      <td>15.897479</td>\n",
       "      <td>109919.0</td>\n",
       "    </tr>\n",
       "    <tr>\n",
       "      <th>2022-04-29</th>\n",
       "      <td>31.057049</td>\n",
       "      <td>16.893757</td>\n",
       "      <td>22.708208</td>\n",
       "      <td>15.897479</td>\n",
       "      <td>107876.0</td>\n",
       "    </tr>\n",
       "  </tbody>\n",
       "</table>\n",
       "<p>1819 rows × 5 columns</p>\n",
       "</div>"
      ],
      "text/plain": [
       "             BBAS3.SA   BBDC4.SA   ITUB4.SA   SANB4.SA     ^BVSP\n",
       "Date                                                            \n",
       "2015-01-02  13.836071   9.028625  12.872023   3.463754   48512.0\n",
       "2015-01-05  13.548972   9.047248  12.936701   3.434890   47517.0\n",
       "2015-01-06  13.738333   9.344872  13.145975   3.463754   48001.0\n",
       "2015-01-07  14.343091   9.716242  13.621588   3.752400   49463.0\n",
       "2015-01-08  14.391956   9.766285  13.834665   3.660033   49943.0\n",
       "...               ...        ...        ...        ...       ...\n",
       "2022-04-25  32.440689  17.946095  24.325464  16.824757  110685.0\n",
       "2022-04-26  31.711473  17.175636  23.497814  16.059994  108213.0\n",
       "2022-04-27  31.851702  17.278990  23.307545  16.069553  109349.0\n",
       "2022-04-28  31.795607  17.119259  23.117281  15.897479  109919.0\n",
       "2022-04-29  31.057049  16.893757  22.708208  15.897479  107876.0\n",
       "\n",
       "[1819 rows x 5 columns]"
      ]
     },
     "execution_count": 15,
     "metadata": {},
     "output_type": "execute_result"
    }
   ],
   "source": [
    "dados_filtrados_2015"
   ]
  },
  {
   "cell_type": "code",
   "execution_count": 29,
   "id": "dbd93f0f",
   "metadata": {},
   "outputs": [],
   "source": [
    "itau = dados_bancario[\"ITUB4.SA\"]\n",
    "santander = dados_bancario[\"SANB4.SA\"]\n",
    "banco_do_brasil = dados_bancario[\"BBAS3.SA\"]\n",
    "bradesco = dados_bancario[\"BBDC4.SA\"]\n",
    "dados_mercado = dados_bancario[\"^BVSP\"]"
   ]
  },
  {
   "cell_type": "code",
   "execution_count": 34,
   "id": "ca693a4e",
   "metadata": {},
   "outputs": [],
   "source": [
    "def retorno(lista):\n",
    "    return lista[-1] / lista[0] - 1"
   ]
  },
  {
   "cell_type": "code",
   "execution_count": 32,
   "id": "d493569c",
   "metadata": {},
   "outputs": [],
   "source": [
    "retorno_itau = retorno(itau)\n",
    "retorno_santander = retorno(santander)\n",
    "retorno_banco_do_brasil = retorno(banco_do_brasil)\n",
    "retorno_bradesco = retorno(bradesco)\n",
    "retorno_mercado = retorno(dados_mercado)"
   ]
  },
  {
   "cell_type": "code",
   "execution_count": 35,
   "id": "9e0f1093",
   "metadata": {},
   "outputs": [
    {
     "data": {
      "text/plain": [
       "(1.1084393155919328,\n",
       " 1.8574630385464985,\n",
       " 1.45678709464043,\n",
       " 1.2013058425905698,\n",
       " 0.5400956527946321)"
      ]
     },
     "execution_count": 35,
     "metadata": {},
     "output_type": "execute_result"
    }
   ],
   "source": [
    "retorno_itau, retorno_santander, retorno_banco_do_brasil, retorno_bradesco, retorno_mercado"
   ]
  },
  {
   "cell_type": "code",
   "execution_count": 36,
   "id": "28e0743e",
   "metadata": {},
   "outputs": [],
   "source": [
    "df_retornos = pd.DataFrame(\n",
    "    data = {\"retornos\": [retorno_itau, retorno_santander, retorno_banco_do_brasil, retorno_bradesco, retorno_mercado]},\n",
    "    index = [\"Itau\", \"Santander\", \"Banco do Brasil\", \"Bradesco\", \"Ibovespa\"]\n",
    ")"
   ]
  },
  {
   "cell_type": "code",
   "execution_count": 38,
   "id": "4ea19072",
   "metadata": {},
   "outputs": [],
   "source": [
    "df_retornos[\"retornos\"] *= 100"
   ]
  },
  {
   "cell_type": "code",
   "execution_count": 39,
   "id": "dcf7b9d5",
   "metadata": {},
   "outputs": [
    {
     "data": {
      "text/html": [
       "<div>\n",
       "<style scoped>\n",
       "    .dataframe tbody tr th:only-of-type {\n",
       "        vertical-align: middle;\n",
       "    }\n",
       "\n",
       "    .dataframe tbody tr th {\n",
       "        vertical-align: top;\n",
       "    }\n",
       "\n",
       "    .dataframe thead th {\n",
       "        text-align: right;\n",
       "    }\n",
       "</style>\n",
       "<table border=\"1\" class=\"dataframe\">\n",
       "  <thead>\n",
       "    <tr style=\"text-align: right;\">\n",
       "      <th></th>\n",
       "      <th>retornos</th>\n",
       "    </tr>\n",
       "  </thead>\n",
       "  <tbody>\n",
       "    <tr>\n",
       "      <th>Itau</th>\n",
       "      <td>110.843932</td>\n",
       "    </tr>\n",
       "    <tr>\n",
       "      <th>Santander</th>\n",
       "      <td>185.746304</td>\n",
       "    </tr>\n",
       "    <tr>\n",
       "      <th>Banco do Brasil</th>\n",
       "      <td>145.678709</td>\n",
       "    </tr>\n",
       "    <tr>\n",
       "      <th>Bradesco</th>\n",
       "      <td>120.130584</td>\n",
       "    </tr>\n",
       "    <tr>\n",
       "      <th>Ibovespa</th>\n",
       "      <td>54.009565</td>\n",
       "    </tr>\n",
       "  </tbody>\n",
       "</table>\n",
       "</div>"
      ],
      "text/plain": [
       "                   retornos\n",
       "Itau             110.843932\n",
       "Santander        185.746304\n",
       "Banco do Brasil  145.678709\n",
       "Bradesco         120.130584\n",
       "Ibovespa          54.009565"
      ]
     },
     "execution_count": 39,
     "metadata": {},
     "output_type": "execute_result"
    }
   ],
   "source": [
    "df_retornos"
   ]
  },
  {
   "cell_type": "code",
   "execution_count": 40,
   "id": "3fc5fe6e",
   "metadata": {},
   "outputs": [],
   "source": [
    "df_retornos = df_retornos.sort_values(by = \"retornos\", ascending = False)"
   ]
  },
  {
   "cell_type": "code",
   "execution_count": 41,
   "id": "22abedde",
   "metadata": {},
   "outputs": [
    {
     "data": {
      "text/html": [
       "<div>\n",
       "<style scoped>\n",
       "    .dataframe tbody tr th:only-of-type {\n",
       "        vertical-align: middle;\n",
       "    }\n",
       "\n",
       "    .dataframe tbody tr th {\n",
       "        vertical-align: top;\n",
       "    }\n",
       "\n",
       "    .dataframe thead th {\n",
       "        text-align: right;\n",
       "    }\n",
       "</style>\n",
       "<table border=\"1\" class=\"dataframe\">\n",
       "  <thead>\n",
       "    <tr style=\"text-align: right;\">\n",
       "      <th></th>\n",
       "      <th>retornos</th>\n",
       "    </tr>\n",
       "  </thead>\n",
       "  <tbody>\n",
       "    <tr>\n",
       "      <th>Santander</th>\n",
       "      <td>185.746304</td>\n",
       "    </tr>\n",
       "    <tr>\n",
       "      <th>Banco do Brasil</th>\n",
       "      <td>145.678709</td>\n",
       "    </tr>\n",
       "    <tr>\n",
       "      <th>Bradesco</th>\n",
       "      <td>120.130584</td>\n",
       "    </tr>\n",
       "    <tr>\n",
       "      <th>Itau</th>\n",
       "      <td>110.843932</td>\n",
       "    </tr>\n",
       "    <tr>\n",
       "      <th>Ibovespa</th>\n",
       "      <td>54.009565</td>\n",
       "    </tr>\n",
       "  </tbody>\n",
       "</table>\n",
       "</div>"
      ],
      "text/plain": [
       "                   retornos\n",
       "Santander        185.746304\n",
       "Banco do Brasil  145.678709\n",
       "Bradesco         120.130584\n",
       "Itau             110.843932\n",
       "Ibovespa          54.009565"
      ]
     },
     "execution_count": 41,
     "metadata": {},
     "output_type": "execute_result"
    }
   ],
   "source": [
    "df_retornos"
   ]
  },
  {
   "cell_type": "code",
   "execution_count": 52,
   "id": "3ee1b73e",
   "metadata": {},
   "outputs": [
    {
     "data": {
      "image/png": "[encoded data removed]",
      "text/plain": [
       "<Figure size 640x480 with 1 Axes>"
      ]
     },
     "metadata": {},
     "output_type": "display_data"
    }
   ],
   "source": [
    "fig, ax = plt.subplots()\n",
    "\n",
    "ax.bar(df_retornos.index, df_retornos[\"retornos\"])\n",
    "ax.yaxis.set_major_formatter(mtick.PercentFormatter())\n",
    "\n",
    "plt.xticks(fontsize = 9)\n",
    "\n",
    "plt.show() # Opcional para o Jupyter, pois ele mostra o gráfico automaticamento, porém em outros programas é necessário executar essa função"
   ]
  },
  {
   "cell_type": "code",
   "execution_count": 53,
   "id": "4a527196",
   "metadata": {},
   "outputs": [
    {
     "data": {
      "text/html": [
       "<div>\n",
       "<style scoped>\n",
       "    .dataframe tbody tr th:only-of-type {\n",
       "        vertical-align: middle;\n",
       "    }\n",
       "\n",
       "    .dataframe tbody tr th {\n",
       "        vertical-align: top;\n",
       "    }\n",
       "\n",
       "    .dataframe thead th {\n",
       "        text-align: right;\n",
       "    }\n",
       "</style>\n",
       "<table border=\"1\" class=\"dataframe\">\n",
       "  <thead>\n",
       "    <tr style=\"text-align: right;\">\n",
       "      <th></th>\n",
       "      <th>bradesco</th>\n",
       "      <th>banco_do_brasil</th>\n",
       "      <th>itau</th>\n",
       "      <th>santander</th>\n",
       "    </tr>\n",
       "    <tr>\n",
       "      <th>data</th>\n",
       "      <th></th>\n",
       "      <th></th>\n",
       "      <th></th>\n",
       "      <th></th>\n",
       "    </tr>\n",
       "  </thead>\n",
       "  <tbody>\n",
       "    <tr>\n",
       "      <th>2009-12-31</th>\n",
       "      <td>8012282</td>\n",
       "      <td>10147522</td>\n",
       "      <td>1068808</td>\n",
       "      <td>1805899</td>\n",
       "    </tr>\n",
       "    <tr>\n",
       "      <th>2021-12-31</th>\n",
       "      <td>21945688</td>\n",
       "      <td>19710402</td>\n",
       "      <td>24988000</td>\n",
       "      <td>14987716</td>\n",
       "    </tr>\n",
       "  </tbody>\n",
       "</table>\n",
       "</div>"
      ],
      "text/plain": [
       "            bradesco  banco_do_brasil      itau  santander\n",
       "data                                                      \n",
       "2009-12-31   8012282         10147522   1068808    1805899\n",
       "2021-12-31  21945688         19710402  24988000   14987716"
      ]
     },
     "execution_count": 53,
     "metadata": {},
     "output_type": "execute_result"
    }
   ],
   "source": [
    "lucro_bancos"
   ]
  },
  {
   "cell_type": "code",
   "execution_count": 60,
   "id": "fdde6612",
   "metadata": {},
   "outputs": [],
   "source": [
    "variacao_lucro_bancos = lucro_bancos.iloc[-1] / lucro_bancos.iloc[0] - 1\n",
    "variacao_lucro_bancos *= 100\n",
    "variacao_lucro_bancos = variacao_lucro_bancos.sort_values(ascending = False)"
   ]
  },
  {
   "cell_type": "code",
   "execution_count": 62,
   "id": "7404bc5a",
   "metadata": {},
   "outputs": [
    {
     "data": {
      "text/plain": [
       "itau               2237.931602\n",
       "santander           729.931021\n",
       "bradesco            173.900594\n",
       "banco_do_brasil      94.238574\n",
       "dtype: float64"
      ]
     },
     "execution_count": 62,
     "metadata": {},
     "output_type": "execute_result"
    }
   ],
   "source": [
    "variacao_lucro_bancos"
   ]
  },
  {
   "cell_type": "code",
   "execution_count": 65,
   "id": "641aa5ff",
   "metadata": {},
   "outputs": [
    {
     "data": {
      "text/plain": [
       "([0, 1, 2, 3, 4],\n",
       " [Text(0, 0, 'Santander'),\n",
       "  Text(1, 0, 'Banco do Brasil'),\n",
       "  Text(2, 0, 'Bradesco'),\n",
       "  Text(3, 0, 'Itau'),\n",
       "  Text(4, 0, 'Ibovespa')])"
      ]
     },
     "execution_count": 65,
     "metadata": {},
     "output_type": "execute_result"
    },
    {
     "data": {
      "image/png": "[encoded data removed]",
      "text/plain": [
       "<Figure size 640x480 with 1 Axes>"
      ]
     },
     "metadata": {},
     "output_type": "display_data"
    },
    {
     "data": {
      "image/png": "[encoded data removed]",
      "text/plain": [
       "<Figure size 640x480 with 1 Axes>"
      ]
     },
     "metadata": {},
     "output_type": "display_data"
    }
   ],
   "source": [
    "fig, ax = plt.subplots()\n",
    "\n",
    "ax.bar(variacao_lucro_bancos.index, variacao_lucro_bancos)\n",
    "ax.yaxis.set_major_formatter(mtick.PercentFormatter())\n",
    "\n",
    "plt.xticks(fontsize = 9)\n",
    "\n",
    "fig, ax = plt.subplots()\n",
    "\n",
    "ax.bar(df_retornos.index, df_retornos[\"retornos\"])\n",
    "ax.yaxis.set_major_formatter(mtick.PercentFormatter())\n",
    "\n",
    "plt.xticks(fontsize = 9)"
   ]
  },
  {
   "cell_type": "code",
   "execution_count": 67,
   "id": "94d41f1a",
   "metadata": {},
   "outputs": [],
   "source": [
    "def resample_periodo(dado, periodo):\n",
    "    dado_periodo_novo = dado.resample(str(periodo)).last()\n",
    "    dado_periodo_novo = dado_periodo_novo.pct_change()\n",
    "    dado_periodo_novo = dado_periodo_novo.dropna()\n",
    "    \n",
    "    return dado_periodo_novo"
   ]
  },
  {
   "cell_type": "code",
   "execution_count": 71,
   "id": "ec53f7fc",
   "metadata": {},
   "outputs": [],
   "source": [
    "itau_ano_a_ano = resample_periodo(itau, \"Y\")\n",
    "ibov_ano_a_ano = resample_periodo(dados_mercado, \"Y\")"
   ]
  },
  {
   "cell_type": "code",
   "execution_count": 76,
   "id": "93808551",
   "metadata": {},
   "outputs": [],
   "source": [
    "outperform_itau = itau_ano_a_ano - ibov_ano_a_ano"
   ]
  },
  {
   "cell_type": "code",
   "execution_count": 78,
   "id": "2483b29e",
   "metadata": {},
   "outputs": [
    {
     "data": {
      "text/plain": [
       "[<matplotlib.lines.Line2D at 0x7f3bc60e6da0>]"
      ]
     },
     "execution_count": 78,
     "metadata": {},
     "output_type": "execute_result"
    },
    {
     "data": {
      "image/png": "[encoded data removed]",
      "text/plain": [
       "<Figure size 640x480 with 1 Axes>"
      ]
     },
     "metadata": {},
     "output_type": "display_data"
    }
   ],
   "source": [
    " plt.plot(outperform_itau)"
   ]
  },
  {
   "cell_type": "code",
   "execution_count": 80,
   "id": "f58e6193",
   "metadata": {},
   "outputs": [],
   "source": [
    "meses_positivos = sum(outperform_itau > 0) / len(outperform_itau)"
   ]
  },
  {
   "cell_type": "code",
   "execution_count": 82,
   "id": "328e56de",
   "metadata": {},
   "outputs": [
    {
     "data": {
      "text/plain": [
       "0.6666666666666666"
      ]
     },
     "execution_count": 82,
     "metadata": {},
     "output_type": "execute_result"
    }
   ],
   "source": [
    "meses_positivos"
   ]
  },
  {
   "cell_type": "code",
   "execution_count": 84,
   "id": "02b47175",
   "metadata": {},
   "outputs": [],
   "source": [
    "# long short é uma \"aposta\" que consiste na subida maior de um ativo em relação a outra (por exemplo: o Itau irá subir mais do que o IBOV)\n",
    "def long_short(long, short, periodo):\n",
    "    variacao_long = resample_periodo(long, periodo)\n",
    "    variacao_short = resample_periodo(short, periodo)\n",
    "    \n",
    "    outperform = variacao_long - variacao_short\n",
    "    plt.plot(outperform)"
   ]
  },
  {
   "cell_type": "code",
   "execution_count": 85,
   "id": "2e970338",
   "metadata": {},
   "outputs": [
    {
     "data": {
      "image/png": "[encoded data removed]",
      "text/plain": [
       "<Figure size 640x480 with 1 Axes>"
      ]
     },
     "metadata": {},
     "output_type": "display_data"
    }
   ],
   "source": [
    "long_short(santander, dados_mercado, \"Y\")"
   ]
  }
 ],
 "metadata": {
  "kernelspec": {
   "display_name": "Python 3 (ipykernel)",
   "language": "python",
   "name": "python3"
  },
  "language_info": {
   "codemirror_mode": {
    "name": "ipython",
    "version": 3
   },
   "file_extension": ".py",
   "mimetype": "text/x-python",
   "name": "python",
   "nbconvert_exporter": "python",
   "pygments_lexer": "ipython3",
   "version": "3.10.9"
  }
 },
 "nbformat": 4,
 "nbformat_minor": 5
}
